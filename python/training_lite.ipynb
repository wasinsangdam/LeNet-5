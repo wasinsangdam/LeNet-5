{
 "cells": [
  {
   "cell_type": "code",
   "execution_count": 2,
   "metadata": {},
   "outputs": [],
   "source": [
    "import tensorflow as tf\n",
    "import matplotlib.pyplot as plt\n",
    "from keras import layers, models, losses, datasets"
   ]
  },
  {
   "cell_type": "code",
   "execution_count": 2,
   "metadata": {},
   "outputs": [],
   "source": [
    "(x_train, y_train), (x_test, y_test) = tf.keras.datasets.mnist.load_data()"
   ]
  },
  {
   "cell_type": "code",
   "execution_count": 3,
   "metadata": {},
   "outputs": [],
   "source": [
    "x_train = tf.pad(x_train, [[0, 0], [2, 2], [2, 2]]) / 255\n",
    "x_test  = tf.pad(x_test , [[0, 0], [2, 2], [2, 2]]) / 255"
   ]
  },
  {
   "cell_type": "code",
   "execution_count": 4,
   "metadata": {},
   "outputs": [],
   "source": [
    "x_train = tf.expand_dims(x_train, axis = 3, name = None)\n",
    "x_test  = tf.expand_dims(x_test , axis = 3, name = None)\n"
   ]
  },
  {
   "cell_type": "code",
   "execution_count": 5,
   "metadata": {},
   "outputs": [
    {
     "name": "stdout",
     "output_type": "stream",
     "text": [
      "(58000, 32, 32, 1)\n"
     ]
    }
   ],
   "source": [
    "x_val = x_train[-2000 : , : , : , :]\n",
    "y_val = y_train[-2000 :]\n",
    "\n",
    "x_train = x_train[:-2000, : , : , :]\n",
    "y_train = y_train[:-2000]"
   ]
  },
  {
   "cell_type": "code",
   "execution_count": 6,
   "metadata": {},
   "outputs": [],
   "source": [
    "model_lite = models.Sequential()"
   ]
  },
  {
   "cell_type": "code",
   "execution_count": 7,
   "metadata": {},
   "outputs": [],
   "source": [
    "model_lite.add(layers.Conv2D(3, 5, activation='relu', name=\"conv1\"))\n",
    "model_lite.add(layers.MaxPooling2D(2, name = \"pool1\"))\n",
    "model_lite.add(layers.Conv2D(6, 5, activation='relu', name = \"conv2\"))\n",
    "model_lite.add(layers.MaxPooling2D(2, name = \"pool2\"))\n",
    "model_lite.add(layers.Conv2D(12, 5, activation='relu', name = \"conv3\"))\n",
    "model_lite.add(layers.Flatten(name = \"flatten\"))\n",
    "model_lite.add(layers.Dense(10, activation='relu', name=\"full1\"))\n",
    "model_lite.add(layers.Dense(10, activation='softmax', name=\"full2\"))\n",
    "# model.summary()"
   ]
  },
  {
   "cell_type": "code",
   "execution_count": 8,
   "metadata": {},
   "outputs": [],
   "source": [
    "model_lite.compile(optimizer='adam', loss=losses.sparse_categorical_crossentropy, metrics=['accuracy'])\n"
   ]
  },
  {
   "cell_type": "code",
   "execution_count": 9,
   "metadata": {},
   "outputs": [
    {
     "name": "stdout",
     "output_type": "stream",
     "text": [
      "Epoch 1/5\n",
      "1813/1813 [==============================] - 55s 23ms/step - loss: 0.4387 - accuracy: 0.8566 - val_loss: 0.1237 - val_accuracy: 0.9680\n",
      "Epoch 2/5\n",
      "1813/1813 [==============================] - 35s 19ms/step - loss: 0.1497 - accuracy: 0.9540 - val_loss: 0.0932 - val_accuracy: 0.9785\n",
      "Epoch 3/5\n",
      "1813/1813 [==============================] - 37s 21ms/step - loss: 0.1173 - accuracy: 0.9637 - val_loss: 0.1066 - val_accuracy: 0.9715\n",
      "Epoch 4/5\n",
      "1813/1813 [==============================] - 39s 21ms/step - loss: 0.1012 - accuracy: 0.9687 - val_loss: 0.0930 - val_accuracy: 0.9800\n",
      "Epoch 5/5\n",
      "1813/1813 [==============================] - 41s 22ms/step - loss: 0.0900 - accuracy: 0.9729 - val_loss: 0.0819 - val_accuracy: 0.9770\n"
     ]
    },
    {
     "name": "stderr",
     "output_type": "stream",
     "text": [
      "WARNING:absl:Found untraced functions such as _jit_compiled_convolution_op, _jit_compiled_convolution_op, _jit_compiled_convolution_op while saving (showing 3 of 3). These functions will not be directly callable after loading.\n"
     ]
    },
    {
     "name": "stdout",
     "output_type": "stream",
     "text": [
      "INFO:tensorflow:Assets written to: ./model_lite/assets\n"
     ]
    },
    {
     "name": "stderr",
     "output_type": "stream",
     "text": [
      "INFO:tensorflow:Assets written to: ./model_lite/assets\n"
     ]
    }
   ],
   "source": [
    "history = model_lite.fit(x_train, y_train, batch_size=32, epochs=5, validation_data=(x_val, y_val))\n",
    "model_lite.save('./model_lite')"
   ]
  },
  {
   "cell_type": "code",
   "execution_count": 10,
   "metadata": {},
   "outputs": [
    {
     "name": "stdout",
     "output_type": "stream",
     "text": [
      "Model: \"sequential\"\n",
      "_________________________________________________________________\n",
      " Layer (type)                Output Shape              Param #   \n",
      "=================================================================\n",
      " conv1 (Conv2D)              (None, 28, 28, 3)         78        \n",
      "                                                                 \n",
      " pool1 (MaxPooling2D)        (None, 14, 14, 3)         0         \n",
      "                                                                 \n",
      " conv2 (Conv2D)              (None, 10, 10, 6)         456       \n",
      "                                                                 \n",
      " pool2 (MaxPooling2D)        (None, 5, 5, 6)           0         \n",
      "                                                                 \n",
      " conv3 (Conv2D)              (None, 1, 1, 12)          1812      \n",
      "                                                                 \n",
      " flatten (Flatten)           (None, 12)                0         \n",
      "                                                                 \n",
      " full1 (Dense)               (None, 10)                130       \n",
      "                                                                 \n",
      " full2 (Dense)               (None, 10)                110       \n",
      "                                                                 \n",
      "=================================================================\n",
      "Total params: 2,586\n",
      "Trainable params: 2,586\n",
      "Non-trainable params: 0\n",
      "_________________________________________________________________\n"
     ]
    }
   ],
   "source": [
    "model_lite.summary()"
   ]
  },
  {
   "cell_type": "code",
   "execution_count": 11,
   "metadata": {},
   "outputs": [
    {
     "name": "stdout",
     "output_type": "stream",
     "text": [
      "200/200 [==============================] - 7s 9ms/step - loss: 0.0773 - accuracy: 0.9747\n"
     ]
    },
    {
     "data": {
      "text/plain": [
       "[0.0773387998342514, 0.9747000336647034]"
      ]
     },
     "execution_count": 11,
     "metadata": {},
     "output_type": "execute_result"
    }
   ],
   "source": [
    "model_lite.evaluate(x_test, y_test, batch_size = 50)"
   ]
  },
  {
   "cell_type": "code",
   "execution_count": null,
   "metadata": {},
   "outputs": [],
   "source": []
  }
 ],
 "metadata": {
  "kernelspec": {
   "display_name": "tensorflow",
   "language": "python",
   "name": "python3"
  },
  "language_info": {
   "codemirror_mode": {
    "name": "ipython",
    "version": 3
   },
   "file_extension": ".py",
   "mimetype": "text/x-python",
   "name": "python",
   "nbconvert_exporter": "python",
   "pygments_lexer": "ipython3",
   "version": "3.8.17"
  },
  "orig_nbformat": 4
 },
 "nbformat": 4,
 "nbformat_minor": 2
}
