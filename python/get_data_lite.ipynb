{
 "cells": [
  {
   "cell_type": "code",
   "execution_count": 2,
   "metadata": {},
   "outputs": [
    {
     "name": "stdout",
     "output_type": "stream",
     "text": [
      "Model: \"sequential\"\n",
      "_________________________________________________________________\n",
      " Layer (type)                Output Shape              Param #   \n",
      "=================================================================\n",
      " conv1 (Conv2D)              (None, 28, 28, 3)         78        \n",
      "                                                                 \n",
      " pool1 (MaxPooling2D)        (None, 14, 14, 3)         0         \n",
      "                                                                 \n",
      " conv2 (Conv2D)              (None, 10, 10, 6)         456       \n",
      "                                                                 \n",
      " pool2 (MaxPooling2D)        (None, 5, 5, 6)           0         \n",
      "                                                                 \n",
      " conv3 (Conv2D)              (None, 1, 1, 12)          1812      \n",
      "                                                                 \n",
      " flatten (Flatten)           (None, 12)                0         \n",
      "                                                                 \n",
      " full1 (Dense)               (None, 10)                130       \n",
      "                                                                 \n",
      " full2 (Dense)               (None, 10)                110       \n",
      "                                                                 \n",
      "=================================================================\n",
      "Total params: 2,586\n",
      "Trainable params: 2,586\n",
      "Non-trainable params: 0\n",
      "_________________________________________________________________\n",
      "None\n"
     ]
    }
   ],
   "source": [
    "#!/usr/bin/env python\n",
    "import sys\n",
    "import tensorflow as tf\n",
    "import keras as keras\n",
    "\n",
    "import matplotlib.pyplot as plt\n",
    "import numpy as np\n",
    "\n",
    "# set print options in jupyter\n",
    "np.set_printoptions(precision=2, suppress=True)\n",
    "np.set_printoptions(threshold=sys.maxsize)\n",
    "np.set_printoptions(linewidth=250)\n",
    "\n",
    "# load dataset \n",
    "(x_train, y_train), (x_test, y_test) = tf.keras.datasets.mnist.load_data()\n",
    "\n",
    "x_train = tf.pad(x_train, [[0, 0], [2, 2], [2, 2]]) / 255\n",
    "x_test  = tf.pad(x_test , [[0, 0], [2, 2], [2, 2]]) / 255\n",
    "\n",
    "x_train = tf.expand_dims(x_train, axis = 3, name = None)\n",
    "x_test  = tf.expand_dims(x_test , axis = 3, name = None)\n",
    "\n",
    "x_val = x_train[-2000 : , : , : , :]\n",
    "y_val = y_train[-2000 :]\n",
    "\n",
    "x_train = x_train[:-2000, : , : , :]\n",
    "y_train = y_train[:-2000]\n",
    "\n",
    "# load pre-trained model\n",
    "my_model = keras.models.load_model(\"./model_lite\")\n",
    "\n",
    "#print model summary\n",
    "print(my_model.summary())\n",
    "\n"
   ]
  },
  {
   "cell_type": "code",
   "execution_count": 3,
   "metadata": {},
   "outputs": [],
   "source": [
    "# image : 7\n",
    "test_image = x_test[0]\n",
    "\n",
    "# for model input \n",
    "expanded_image = tf.expand_dims(test_image, axis=0)\n",
    "\n",
    "# for get weight and bias\n",
    "weight_bias_dict = {}\n",
    "layer_list = []\n",
    "for layer in my_model.layers : \n",
    "    layer_list.append(layer.name)\n",
    "    if 'pool' in layer.name or 'flatten' in layer.name :\n",
    "        continue\n",
    "    weight_bias_dict[layer.name] = layer.get_weights()"
   ]
  },
  {
   "cell_type": "code",
   "execution_count": 4,
   "metadata": {},
   "outputs": [
    {
     "name": "stdout",
     "output_type": "stream",
     "text": [
      "Components of LeNet-5\n",
      "=====================\n",
      "conv1\n",
      "pool1\n",
      "conv2\n",
      "pool2\n",
      "conv3\n",
      "flatten\n",
      "full1\n",
      "full2\n",
      "=====================\n",
      "\n",
      "Layers shape which have weights and bias\n",
      "=============================================================================================\n",
      "layer name : conv1\t weight shape : (5, 5, 1, 3)\tbias shape : (3,)\n",
      "layer name : conv2\t weight shape : (5, 5, 3, 6)\tbias shape : (6,)\n",
      "layer name : conv3\t weight shape : (5, 5, 6, 12)\tbias shape : (12,)\n",
      "layer name : full1\t weight shape : (12, 10)\tbias shape : (10,)\n",
      "layer name : full2\t weight shape : (10, 10)\tbias shape : (10,)\n",
      "=============================================================================================\n",
      "\n"
     ]
    }
   ],
   "source": [
    "print(\"Components of LeNet-5\")\n",
    "print(\"=====================\")\n",
    "for layer in layer_list :\n",
    "    print(layer)\n",
    "print(\"=====================\\n\")\n",
    "\n",
    "print(\"Layers shape which have weights and bias\")\n",
    "print(\"=============================================================================================\")\n",
    "for key, value in weight_bias_dict.items() :\n",
    "    print(f\"layer name : {key}\\t weight shape : {value[0].shape}\\tbias shape : {value[1].shape}\" .format(key=key, value=value) )\n",
    "print(\"=============================================================================================\\n\")\n"
   ]
  },
  {
   "cell_type": "code",
   "execution_count": 5,
   "metadata": {},
   "outputs": [
    {
     "name": "stdout",
     "output_type": "stream",
     "text": [
      "After handling the weights of convolution layers\n",
      "=============================================================================================\n",
      "layer name : conv1\t weight shape : (3, 5, 5)\tbias shape : (3,)\n",
      "layer name : conv2\t weight shape : (6, 3, 5, 5)\tbias shape : (6,)\n",
      "layer name : conv3\t weight shape : (12, 6, 5, 5)\tbias shape : (12,)\n",
      "layer name : full1\t weight shape : (10, 12)\tbias shape : (10,)\n",
      "layer name : full2\t weight shape : (10, 10)\tbias shape : (10,)\n",
      "=============================================================================================\n",
      "\n"
     ]
    }
   ],
   "source": [
    "# handling weights of convolution layers to make a good look\n",
    "for key, value in weight_bias_dict.items() :\n",
    "    if 'conv' in key :\n",
    "        tp_weight = tf.transpose(value[0])\n",
    "        weight = tf.transpose(tp_weight, [0, 1, 3, 2])\n",
    "        value[0] = tf.squeeze(weight)\n",
    "    if 'full' in key :\n",
    "        tp_weight = tf.transpose(value[0])\n",
    "        value[0] = tf.squeeze(tp_weight)\n",
    "\n",
    "print(\"After handling the weights of convolution layers\")\n",
    "print(\"=============================================================================================\")\n",
    "for key, value in weight_bias_dict.items() :\n",
    "    print(f\"layer name : {key}\\t weight shape : {value[0].shape}\\tbias shape : {value[1].shape}\" .format(key=key, value=value) )\n",
    "print(\"=============================================================================================\\n\")\n"
   ]
  },
  {
   "cell_type": "code",
   "execution_count": 6,
   "metadata": {},
   "outputs": [
    {
     "name": "stdout",
     "output_type": "stream",
     "text": [
      "Each layer output shape\n",
      "=============================================================================================\n",
      "output name : conv1_output\t output shape : (1, 28, 28, 3)\t\n",
      "output name : pool1_output\t output shape : (1, 14, 14, 3)\t\n",
      "output name : conv2_output\t output shape : (1, 10, 10, 6)\t\n",
      "output name : pool2_output\t output shape : (1, 5, 5, 6)\t\n",
      "output name : conv3_output\t output shape : (1, 1, 1, 12)\t\n",
      "output name : flatten_output\t output shape : (1, 12)\t\n",
      "output name : full1_output\t output shape : (1, 10)\t\n",
      "output name : full2_output\t output shape : (1, 10)\t\n",
      "=============================================================================================\n",
      "\n"
     ]
    }
   ],
   "source": [
    "output_dict = {}\n",
    "\n",
    "for layer in my_model.layers :\n",
    "    temp_model = keras.Model(inputs=my_model.input, outputs = my_model.get_layer(layer.name).output)\n",
    "    output_dict[layer.name + '_output'] = temp_model(expanded_image)\n",
    "\n",
    "print(\"Each layer output shape\")\n",
    "print(\"=============================================================================================\")\n",
    "for key, value in output_dict.items() :\n",
    "    print(f\"output name : {key}\\t output shape : {value.shape}\\t\" .format(key=key, value=value))\n",
    "print(\"=============================================================================================\\n\")\n",
    "\n",
    "\n",
    "    "
   ]
  },
  {
   "cell_type": "code",
   "execution_count": 7,
   "metadata": {},
   "outputs": [],
   "source": [
    "# handling outputs of layers to make a good look\n",
    "for key, value in output_dict.items() :\n",
    "    # for 4-dimension output \n",
    "    if 'conv' in key or 'pool' in key :\n",
    "        tp_output = tf.transpose(value)\n",
    "        tp_tp_output = tf.transpose(tp_output, [0, 2, 1, 3])\n",
    "        output_dict[key] = tf.squeeze(tp_tp_output)\n",
    "        continue\n",
    "    # for 2-dimension output\n",
    "    output_dict[key] = tf.squeeze(value)\n"
   ]
  },
  {
   "cell_type": "code",
   "execution_count": 8,
   "metadata": {},
   "outputs": [
    {
     "name": "stdout",
     "output_type": "stream",
     "text": [
      "After handling the output\n",
      "=============================================================================================\n",
      "output name : conv1_output\t output shape : (3, 28, 28)\t\n",
      "output name : pool1_output\t output shape : (3, 14, 14)\t\n",
      "output name : conv2_output\t output shape : (6, 10, 10)\t\n",
      "output name : pool2_output\t output shape : (6, 5, 5)\t\n",
      "output name : conv3_output\t output shape : (12,)\t\n",
      "output name : flatten_output\t output shape : (12,)\t\n",
      "output name : full1_output\t output shape : (10,)\t\n",
      "output name : full2_output\t output shape : (10,)\t\n",
      "=============================================================================================\n",
      "\n"
     ]
    }
   ],
   "source": [
    "\n",
    "print(\"After handling the output\")\n",
    "print(\"=============================================================================================\")\n",
    "for key, value in output_dict.items() :\n",
    "    print(f\"output name : {key}\\t output shape : {value.shape}\\t\" .format(key=key, value=value))\n",
    "print(\"=============================================================================================\\n\")"
   ]
  },
  {
   "cell_type": "code",
   "execution_count": 9,
   "metadata": {},
   "outputs": [],
   "source": [
    "# print image\n",
    "# tf.squeeze(test_image)"
   ]
  },
  {
   "cell_type": "code",
   "execution_count": 13,
   "metadata": {},
   "outputs": [],
   "source": [
    "# print conv1 output \n",
    "# output_dict['conv1_output']"
   ]
  },
  {
   "cell_type": "code",
   "execution_count": 14,
   "metadata": {},
   "outputs": [],
   "source": [
    "# print conv1 weight\n",
    "# weight_bias_dict['conv1'][0]\n"
   ]
  },
  {
   "cell_type": "code",
   "execution_count": 15,
   "metadata": {},
   "outputs": [],
   "source": [
    "# print conv1 bias\n",
    "# print(weight_bias_dict['conv1'][1].shape)\n",
    "# print(weight_bias_dict['conv1'][1])"
   ]
  },
  {
   "cell_type": "code",
   "execution_count": 16,
   "metadata": {},
   "outputs": [],
   "source": [
    "# print pool1 output\n",
    "# print(output_dict['pool1_output'])"
   ]
  },
  {
   "cell_type": "code",
   "execution_count": 17,
   "metadata": {},
   "outputs": [],
   "source": [
    "# print conv2 output\n",
    "# output_dict['conv2_output']"
   ]
  },
  {
   "cell_type": "code",
   "execution_count": 18,
   "metadata": {},
   "outputs": [],
   "source": [
    "# print conv2 weight\n",
    "# weight_bias_dict['conv2'][0]"
   ]
  },
  {
   "cell_type": "code",
   "execution_count": 19,
   "metadata": {},
   "outputs": [],
   "source": [
    "# print conv2 bias\n",
    "# print(weight_bias_dict['conv2'][1].shape)\n",
    "# print(weight_bias_dict['conv2'][1])"
   ]
  },
  {
   "cell_type": "code",
   "execution_count": 20,
   "metadata": {},
   "outputs": [],
   "source": [
    "# print pool2 output\n",
    "# output_dict['pool2_output']"
   ]
  },
  {
   "cell_type": "code",
   "execution_count": 21,
   "metadata": {},
   "outputs": [],
   "source": [
    "# print conv3 output\n",
    "# output_dict['conv3_output']"
   ]
  },
  {
   "cell_type": "code",
   "execution_count": 22,
   "metadata": {},
   "outputs": [],
   "source": [
    "# print conv3 weight\n",
    "# weight_bias_dict['conv3'][0]"
   ]
  },
  {
   "cell_type": "code",
   "execution_count": 23,
   "metadata": {},
   "outputs": [],
   "source": [
    "# print conv3 bias\n",
    "# print(weight_bias_dict['conv3'][1].shape)\n",
    "# print(weight_bias_dict['conv3'][1])"
   ]
  },
  {
   "cell_type": "code",
   "execution_count": 24,
   "metadata": {},
   "outputs": [],
   "source": [
    "# print flatten output\n",
    "# output_dict['flatten_output']"
   ]
  },
  {
   "cell_type": "code",
   "execution_count": 25,
   "metadata": {},
   "outputs": [],
   "source": [
    "# print full1 output\n",
    "# output_dict['full1_output']"
   ]
  },
  {
   "cell_type": "code",
   "execution_count": 26,
   "metadata": {},
   "outputs": [],
   "source": [
    "#print full1 weight\n",
    "# print(weight_bias_dict['full1'][0])\n",
    "# print(weight_bias_dict['full1'][0].shape)"
   ]
  },
  {
   "cell_type": "code",
   "execution_count": 27,
   "metadata": {},
   "outputs": [],
   "source": [
    "# print full2 bias\n",
    "# print(weight_bias_dict['full1'][1])\n",
    "# print(weight_bias_dict['full1'][1].shape)"
   ]
  },
  {
   "cell_type": "code",
   "execution_count": 28,
   "metadata": {},
   "outputs": [],
   "source": [
    "# print full2 output\n",
    "# output_dict['full2_output']"
   ]
  },
  {
   "cell_type": "code",
   "execution_count": 29,
   "metadata": {},
   "outputs": [],
   "source": [
    "# print full2 weight\n",
    "# print(weight_bias_dict['full2'][0])\n",
    "# print(weight_bias_dict['full2'][0].shape)\n"
   ]
  },
  {
   "cell_type": "code",
   "execution_count": 30,
   "metadata": {},
   "outputs": [],
   "source": [
    "# print full2 bias\n",
    "# print(weight_bias_dict['full2'][1])\n",
    "# print(weight_bias_dict['full2'][1].shape)"
   ]
  },
  {
   "cell_type": "code",
   "execution_count": 27,
   "metadata": {},
   "outputs": [],
   "source": [
    "import os\n",
    "import shutil\n",
    "import random as rd\n",
    "\n",
    "os.makedirs(\"../data/\", exist_ok=True)\n",
    "os.makedirs(\"../data/weight\", exist_ok=True)\n",
    "os.makedirs(\"../data/bias\", exist_ok=True)\n",
    "os.makedirs(\"../data/input\", exist_ok=True)\n",
    "\n",
    "# # save weight & bias with txt\n",
    "for key, value in weight_bias_dict.items() :\n",
    "    value[0] = tf.reshape(value[0], [-1]) # -1 means flatten\n",
    "    \n",
    "    np.savetxt('../data/weight/' + key + '_weight.data', value[0], fmt=\"%.10f\")\n",
    "    np.savetxt('../data/bias/' + key + '_bias.data'  , value[1], fmt=\"%.10f\")\n",
    "\n",
    "# save test images with txt\n",
    "input_test = tf.squeeze(x_test)\n",
    "input_test_dict = {}\n",
    "\n",
    "for i in range(10000) : \n",
    "    input_test_dict[\"input_\" + str(i) + \".data\"] = input_test[i].numpy()\n",
    "    # input_test_dict[\"input_\" + str(i) + \".data\"] = input_test[rd.randrange(0, 10000)].numpy()\n",
    "    \n",
    "for key, value in input_test_dict.items() :\n",
    "    np.savetxt('../data/input/' + key, value, fmt=\"%.10f\")\n",
    "\n",
    "np.savetxt('../data/input/' + 'answer.txt', y_test, fmt=\"%d\");"
   ]
  }
 ],
 "metadata": {
  "kernelspec": {
   "display_name": "tensorflow",
   "language": "python",
   "name": "python3"
  },
  "language_info": {
   "codemirror_mode": {
    "name": "ipython",
    "version": 3
   },
   "file_extension": ".py",
   "mimetype": "text/x-python",
   "name": "python",
   "nbconvert_exporter": "python",
   "pygments_lexer": "ipython3",
   "version": "3.8.16"
  },
  "orig_nbformat": 4
 },
 "nbformat": 4,
 "nbformat_minor": 2
}
