{
 "cells": [
  {
   "cell_type": "code",
   "execution_count": 1,
   "metadata": {},
   "outputs": [],
   "source": [
    "import tensorflow as tf\n",
    "import matplotlib.pyplot as plt\n",
    "from keras import layers, models, losses, datasets"
   ]
  },
  {
   "cell_type": "code",
   "execution_count": 2,
   "metadata": {},
   "outputs": [],
   "source": [
    "(x_train, y_train), (x_test, y_test) = tf.keras.datasets.mnist.load_data()"
   ]
  },
  {
   "cell_type": "code",
   "execution_count": 3,
   "metadata": {},
   "outputs": [],
   "source": [
    "x_train = tf.pad(x_train, [[0, 0], [2, 2], [2, 2]]) / 255\n",
    "x_test  = tf.pad(x_test , [[0, 0], [2, 2], [2, 2]]) / 255"
   ]
  },
  {
   "cell_type": "code",
   "execution_count": 4,
   "metadata": {},
   "outputs": [],
   "source": [
    "x_train = tf.expand_dims(x_train, axis = 3, name = None)\n",
    "x_test  = tf.expand_dims(x_test , axis = 3, name = None)\n"
   ]
  },
  {
   "cell_type": "code",
   "execution_count": 5,
   "metadata": {},
   "outputs": [],
   "source": [
    "x_val = x_train[-2000 : , : , : , :]\n",
    "y_val = y_train[-2000 :]\n",
    "\n",
    "x_train = x_train[:-2000, : , : , :]\n",
    "y_train = y_train[:-2000]\n",
    "\n",
    "# print(x_train.shape)\n",
    "# print(x_train.shape[1:])"
   ]
  },
  {
   "cell_type": "code",
   "execution_count": 6,
   "metadata": {},
   "outputs": [],
   "source": [
    "model = models.Sequential()"
   ]
  },
  {
   "cell_type": "code",
   "execution_count": 7,
   "metadata": {},
   "outputs": [],
   "source": [
    "model.add(layers.Conv2D(6, 5, activation='tanh', name=\"conv1\"))\n",
    "model.add(layers.AveragePooling2D(2, name = \"pool1\"))\n",
    "model.add(layers.Activation('sigmoid'))\n",
    "model.add(layers.Conv2D(16, 5, activation='tanh', name = \"conv2\"))\n",
    "model.add(layers.AveragePooling2D(2, name = \"pool2\"))\n",
    "model.add(layers.Activation('sigmoid'))\n",
    "model.add(layers.Conv2D(120, 5, activation='tanh', name = \"conv3\"))\n",
    "model.add(layers.Flatten(name = \"flatten\"))\n",
    "model.add(layers.Dense(84, activation='tanh', name=\"full1\"))\n",
    "model.add(layers.Dense(10, activation='softmax', name=\"full2\"))\n",
    "# model.summary()"
   ]
  },
  {
   "cell_type": "code",
   "execution_count": 8,
   "metadata": {},
   "outputs": [],
   "source": [
    "model.compile(optimizer='adam', loss=losses.sparse_categorical_crossentropy, metrics=['accuracy'])\n"
   ]
  },
  {
   "cell_type": "code",
   "execution_count": 9,
   "metadata": {},
   "outputs": [
    {
     "name": "stdout",
     "output_type": "stream",
     "text": [
      "Epoch 1/5\n",
      "1813/1813 [==============================] - 76s 40ms/step - loss: 1.4321 - accuracy: 0.4725 - val_loss: 0.2901 - val_accuracy: 0.9165\n",
      "Epoch 2/5\n",
      "1813/1813 [==============================] - 72s 40ms/step - loss: 0.3288 - accuracy: 0.8958 - val_loss: 0.1808 - val_accuracy: 0.9510\n",
      "Epoch 3/5\n",
      "1813/1813 [==============================] - 70s 39ms/step - loss: 0.2562 - accuracy: 0.9180 - val_loss: 0.1534 - val_accuracy: 0.9600\n",
      "Epoch 4/5\n",
      "1813/1813 [==============================] - 70s 38ms/step - loss: 0.2211 - accuracy: 0.9286 - val_loss: 0.1287 - val_accuracy: 0.9645\n",
      "Epoch 5/5\n",
      "1813/1813 [==============================] - 70s 39ms/step - loss: 0.1949 - accuracy: 0.9381 - val_loss: 0.1446 - val_accuracy: 0.9585\n"
     ]
    },
    {
     "name": "stderr",
     "output_type": "stream",
     "text": [
      "WARNING:absl:Found untraced functions such as _jit_compiled_convolution_op, _jit_compiled_convolution_op, _jit_compiled_convolution_op while saving (showing 3 of 3). These functions will not be directly callable after loading.\n"
     ]
    },
    {
     "name": "stdout",
     "output_type": "stream",
     "text": [
      "INFO:tensorflow:Assets written to: ./model/assets\n"
     ]
    },
    {
     "name": "stderr",
     "output_type": "stream",
     "text": [
      "INFO:tensorflow:Assets written to: ./model/assets\n"
     ]
    }
   ],
   "source": [
    "history = model.fit(x_train, y_train, batch_size=32, epochs=5, validation_data=(x_val, y_val))\n",
    "model.save('./model')"
   ]
  },
  {
   "cell_type": "code",
   "execution_count": 10,
   "metadata": {},
   "outputs": [
    {
     "name": "stdout",
     "output_type": "stream",
     "text": [
      "Model: \"sequential\"\n",
      "_________________________________________________________________\n",
      " Layer (type)                Output Shape              Param #   \n",
      "=================================================================\n",
      " conv1 (Conv2D)              (None, 28, 28, 6)         156       \n",
      "                                                                 \n",
      " pool1 (AveragePooling2D)    (None, 14, 14, 6)         0         \n",
      "                                                                 \n",
      " activation (Activation)     (None, 14, 14, 6)         0         \n",
      "                                                                 \n",
      " conv2 (Conv2D)              (None, 10, 10, 16)        2416      \n",
      "                                                                 \n",
      " pool2 (AveragePooling2D)    (None, 5, 5, 16)          0         \n",
      "                                                                 \n",
      " activation_1 (Activation)   (None, 5, 5, 16)          0         \n",
      "                                                                 \n",
      " conv3 (Conv2D)              (None, 1, 1, 120)         48120     \n",
      "                                                                 \n",
      " flatten (Flatten)           (None, 120)               0         \n",
      "                                                                 \n",
      " full1 (Dense)               (None, 84)                10164     \n",
      "                                                                 \n",
      " full2 (Dense)               (None, 10)                850       \n",
      "                                                                 \n",
      "=================================================================\n",
      "Total params: 61,706\n",
      "Trainable params: 61,706\n",
      "Non-trainable params: 0\n",
      "_________________________________________________________________\n"
     ]
    }
   ],
   "source": [
    "model.summary()"
   ]
  },
  {
   "cell_type": "code",
   "execution_count": 11,
   "metadata": {},
   "outputs": [
    {
     "name": "stdout",
     "output_type": "stream",
     "text": [
      "200/200 [==============================] - 4s 21ms/step - loss: 0.1888 - accuracy: 0.9406\n"
     ]
    },
    {
     "data": {
      "text/plain": [
       "[0.18883727490901947, 0.9406000375747681]"
      ]
     },
     "execution_count": 11,
     "metadata": {},
     "output_type": "execute_result"
    }
   ],
   "source": [
    "model.evaluate(x_test, y_test, batch_size = 50)"
   ]
  },
  {
   "cell_type": "code",
   "execution_count": null,
   "metadata": {},
   "outputs": [],
   "source": []
  }
 ],
 "metadata": {
  "kernelspec": {
   "display_name": "tensorflow",
   "language": "python",
   "name": "python3"
  },
  "language_info": {
   "codemirror_mode": {
    "name": "ipython",
    "version": 3
   },
   "file_extension": ".py",
   "mimetype": "text/x-python",
   "name": "python",
   "nbconvert_exporter": "python",
   "pygments_lexer": "ipython3",
   "version": "3.8.16"
  },
  "orig_nbformat": 4,
  "vscode": {
   "interpreter": {
    "hash": "9fd5872fced9ef7eb3dbe35b94b042fdee75e3d1281b7ac5700616fe6d8b092d"
   }
  }
 },
 "nbformat": 4,
 "nbformat_minor": 2
}
